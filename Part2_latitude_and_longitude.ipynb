{
 "cells": [
  {
   "cell_type": "markdown",
   "metadata": {},
   "source": [
    "# Peer-graded Assignment: Segmenting and Clustering Neighborhoods in Toronto"
   ]
  },
  {
   "cell_type": "markdown",
   "metadata": {},
   "source": [
    "## pt.1 Scraping wiki table to get the first DataFrame"
   ]
  },
  {
   "cell_type": "markdown",
   "metadata": {},
   "source": [
    "### We start importing libraries in order to scrape the table"
   ]
  },
  {
   "cell_type": "code",
   "execution_count": 7,
   "metadata": {},
   "outputs": [
    {
     "name": "stdout",
     "output_type": "stream",
     "text": [
      "pandas imported\n"
     ]
    }
   ],
   "source": [
    "import pandas as pd\n",
    "print('pandas imported')"
   ]
  },
  {
   "cell_type": "markdown",
   "metadata": {},
   "source": [
    "### We now read HTML as list and convert it into DF"
   ]
  },
  {
   "cell_type": "code",
   "execution_count": 8,
   "metadata": {},
   "outputs": [
    {
     "name": "stdout",
     "output_type": "stream",
     "text": [
      "  Postal Code           Borough               Neighborhood\n",
      "0         M1A      Not assigned               Not assigned\n",
      "1         M2A      Not assigned               Not assigned\n",
      "2         M3A        North York                  Parkwoods\n",
      "3         M4A        North York           Victoria Village\n",
      "4         M5A  Downtown Toronto  Regent Park, Harbourfront \n",
      " nice...\n"
     ]
    }
   ],
   "source": [
    "raw_list = pd.read_html('https://en.wikipedia.org/wiki/List_of_postal_codes_of_Canada:_M')\n",
    "raw_df = pd.DataFrame(raw_list[0],columns =['Postal Code','Borough','Neighborhood'])\n",
    "print(raw_df.head(),'\\r\\n nice...')"
   ]
  },
  {
   "cell_type": "markdown",
   "metadata": {},
   "source": [
    "### Lets' drop boroughs marked as 'not assigned'"
   ]
  },
  {
   "cell_type": "code",
   "execution_count": 9,
   "metadata": {},
   "outputs": [],
   "source": [
    "can_df = raw_df.loc[raw_df['Borough'] != 'Not assigned'].reset_index(drop=True)"
   ]
  },
  {
   "cell_type": "markdown",
   "metadata": {},
   "source": [
    "### Let's now check the dataframe through \"head\" and \"shape\" methods"
   ]
  },
  {
   "cell_type": "code",
   "execution_count": 10,
   "metadata": {},
   "outputs": [
    {
     "name": "stdout",
     "output_type": "stream",
     "text": [
      "This is what the dataframe looks like now:\n",
      "\n"
     ]
    },
    {
     "data": {
      "text/html": [
       "<div>\n",
       "<style scoped>\n",
       "    .dataframe tbody tr th:only-of-type {\n",
       "        vertical-align: middle;\n",
       "    }\n",
       "\n",
       "    .dataframe tbody tr th {\n",
       "        vertical-align: top;\n",
       "    }\n",
       "\n",
       "    .dataframe thead th {\n",
       "        text-align: right;\n",
       "    }\n",
       "</style>\n",
       "<table border=\"1\" class=\"dataframe\">\n",
       "  <thead>\n",
       "    <tr style=\"text-align: right;\">\n",
       "      <th></th>\n",
       "      <th>Postal Code</th>\n",
       "      <th>Borough</th>\n",
       "      <th>Neighborhood</th>\n",
       "    </tr>\n",
       "  </thead>\n",
       "  <tbody>\n",
       "    <tr>\n",
       "      <th>0</th>\n",
       "      <td>M3A</td>\n",
       "      <td>North York</td>\n",
       "      <td>Parkwoods</td>\n",
       "    </tr>\n",
       "    <tr>\n",
       "      <th>1</th>\n",
       "      <td>M4A</td>\n",
       "      <td>North York</td>\n",
       "      <td>Victoria Village</td>\n",
       "    </tr>\n",
       "    <tr>\n",
       "      <th>2</th>\n",
       "      <td>M5A</td>\n",
       "      <td>Downtown Toronto</td>\n",
       "      <td>Regent Park, Harbourfront</td>\n",
       "    </tr>\n",
       "    <tr>\n",
       "      <th>3</th>\n",
       "      <td>M6A</td>\n",
       "      <td>North York</td>\n",
       "      <td>Lawrence Manor, Lawrence Heights</td>\n",
       "    </tr>\n",
       "    <tr>\n",
       "      <th>4</th>\n",
       "      <td>M7A</td>\n",
       "      <td>Downtown Toronto</td>\n",
       "      <td>Queen's Park, Ontario Provincial Government</td>\n",
       "    </tr>\n",
       "  </tbody>\n",
       "</table>\n",
       "</div>"
      ],
      "text/plain": [
       "  Postal Code           Borough                                 Neighborhood\n",
       "0         M3A        North York                                    Parkwoods\n",
       "1         M4A        North York                             Victoria Village\n",
       "2         M5A  Downtown Toronto                    Regent Park, Harbourfront\n",
       "3         M6A        North York             Lawrence Manor, Lawrence Heights\n",
       "4         M7A  Downtown Toronto  Queen's Park, Ontario Provincial Government"
      ]
     },
     "execution_count": 10,
     "metadata": {},
     "output_type": "execute_result"
    }
   ],
   "source": [
    "print('This is what the dataframe looks like now:\\r\\n')\n",
    "can_df.head()"
   ]
  },
  {
   "cell_type": "code",
   "execution_count": 16,
   "metadata": {},
   "outputs": [
    {
     "name": "stdout",
     "output_type": "stream",
     "text": [
      "This is the shape of the Toronto Dataframe:  (103, 3)\n"
     ]
    }
   ],
   "source": [
    "print('This is the shape of the Toronto Dataframe: ',can_df.shape)"
   ]
  },
  {
   "cell_type": "markdown",
   "metadata": {},
   "source": [
    "## pt.2 Get Latitude and Logitude for each of the Postal Codes"
   ]
  },
  {
   "cell_type": "markdown",
   "metadata": {},
   "source": [
    "### I found this method researching for a while\n",
    "#### credits -> https://amaral.northwestern.edu/blog/getting-long-lat-list-cities"
   ]
  },
  {
   "cell_type": "markdown",
   "metadata": {},
   "source": [
    "#### we start by importing OpenCageGeocode and sign in with the key provided upon sign up (free)"
   ]
  },
  {
   "cell_type": "code",
   "execution_count": 11,
   "metadata": {},
   "outputs": [],
   "source": [
    "from opencage.geocoder import OpenCageGeocode\n",
    "key = 'b15e50d653d74a1c81ada85bacc6f5f9'  # get api key from:  https://opencagedata.com\n",
    "geocoder = OpenCageGeocode(key)"
   ]
  },
  {
   "cell_type": "markdown",
   "metadata": {},
   "source": [
    "#### let's create two empty lists"
   ]
  },
  {
   "cell_type": "code",
   "execution_count": 12,
   "metadata": {},
   "outputs": [],
   "source": [
    "list_lat = []   # create empty lists\n",
    "\n",
    "list_long = []"
   ]
  },
  {
   "cell_type": "markdown",
   "metadata": {},
   "source": [
    "#### Let's try a query with a postal code and take a look at the result..."
   ]
  },
  {
   "cell_type": "code",
   "execution_count": 3,
   "metadata": {},
   "outputs": [
    {
     "name": "stdout",
     "output_type": "stream",
     "text": [
      "[{'annotations': {'DMS': {'lat': \"53° 47' 38.99112'' N\", 'lng': \"1° 45' 7.22088'' W\"}, 'MGRS': '30UWE8220661343', 'Maidenhead': 'IO93ct90so', 'Mercator': {'x': -195032.394, 'y': 7096766.491}, 'OSM': {'edit_url': 'https://www.openstreetmap.org/edit?node=496729463#map=16/53.79416/-1.75201', 'note_url': 'https://www.openstreetmap.org/note/new#map=16/53.79416/-1.75201&layers=N', 'url': 'https://www.openstreetmap.org/?mlat=53.79416&mlon=-1.75201#map=16/53.79416/-1.75201'}, 'UN_M49': {'regions': {'EUROPE': '150', 'GB': '826', 'NORTHERN_EUROPE': '154', 'WORLD': '001'}, 'statistical_groupings': ['MEDC']}, 'callingcode': 44, 'currency': {'alternate_symbols': [], 'decimal_mark': '.', 'html_entity': '&#x00A3;', 'iso_code': 'GBP', 'iso_numeric': '826', 'name': 'British Pound', 'smallest_denomination': 1, 'subunit': 'Penny', 'subunit_to_unit': 100, 'symbol': '£', 'symbol_first': 1, 'thousands_separator': ','}, 'flag': '🇬🇧', 'geohash': 'gcwf00ujxr1bc62m9p6g', 'qibla': 119.26, 'roadinfo': {'drive_on': 'left', 'road': 'Market Street', 'road_type': 'bus_stop', 'speed_in': 'mph'}, 'sun': {'rise': {'apparent': 1594353060, 'astronomical': 0, 'civil': 1594350000, 'nautical': 1594344960}, 'set': {'apparent': 1594413180, 'astronomical': 0, 'civil': 1594416240, 'nautical': 1594421220}}, 'timezone': {'name': 'Europe/London', 'now_in_dst': 1, 'offset_sec': 3600, 'offset_string': '+0100', 'short_name': 'BST'}, 'what3words': {'words': 'earth.soon.deny'}}, 'bounds': {'northeast': {'lat': 53.7942142, 'lng': -1.7519558}, 'southwest': {'lat': 53.7941142, 'lng': -1.7520558}}, 'components': {'ISO_3166-1_alpha-2': 'GB', 'ISO_3166-1_alpha-3': 'GBR', '_category': 'transportation', '_type': 'bus_stop', 'bus_stop': 'M6A', 'city': 'Bradford', 'continent': 'Europe', 'country': 'United Kingdom', 'country_code': 'gb', 'postcode': 'BD1 1LH', 'road': 'Market Street', 'road_type': 'bus_stop', 'state': 'England', 'state_code': 'ENG', 'state_district': 'Yorkshire and the Humber', 'suburb': 'Little Germany'}, 'confidence': 9, 'formatted': 'M6A, Market Street, Bradford BD1 1LH, United Kingdom', 'geometry': {'lat': 53.7941642, 'lng': -1.7520058}}, {'annotations': {'DMS': {'lat': \"50° 25' 10.28280'' N\", 'lng': \"14° 56' 0.74544'' E\"}, 'MGRS': '33UVR9527885278', 'Maidenhead': 'JO70lk20aq', 'Mercator': {'x': 1662394.109, 'y': 6486297.211}, 'OSM': {'edit_url': 'https://www.openstreetmap.org/edit?way=31620247#map=16/50.41952/14.93354', 'note_url': 'https://www.openstreetmap.org/note/new#map=16/50.41952/14.93354&layers=N', 'url': 'https://www.openstreetmap.org/?mlat=50.41952&mlon=14.93354#map=16/50.41952/14.93354'}, 'UN_M49': {'regions': {'CZ': '203', 'EASTERN_EUROPE': '151', 'EUROPE': '150', 'WORLD': '001'}, 'statistical_groupings': ['MEDC']}, 'callingcode': 420, 'currency': {'alternate_symbols': [], 'decimal_mark': ',', 'html_entity': '', 'iso_code': 'CZK', 'iso_numeric': '203', 'name': 'Czech Koruna', 'smallest_denomination': 100, 'subunit': 'Haléř', 'subunit_to_unit': 100, 'symbol': 'Kč', 'symbol_first': 0, 'thousands_separator': ' '}, 'flag': '🇨🇿', 'geohash': 'u2fwgfd708qc8sghxqn0', 'qibla': 136.86, 'roadinfo': {'drive_on': 'right', 'road': 'tř. Ludvíka Kalmy a Volkharda Köhlera', 'speed_in': 'km/h'}, 'sun': {'rise': {'apparent': 1594350120, 'astronomical': 0, 'civil': 1594347540, 'nautical': 1594343760}, 'set': {'apparent': 1594408140, 'astronomical': 0, 'civil': 1594410720, 'nautical': 1594414440}}, 'timezone': {'name': 'Europe/Prague', 'now_in_dst': 1, 'offset_sec': 7200, 'offset_string': '+0200', 'short_name': 'CEST'}, 'what3words': {'words': 'seasons.weaned.crust'}}, 'bounds': {'northeast': {'lat': 50.4201608, 'lng': 14.934325}, 'southwest': {'lat': 50.4190121, 'lng': 14.932883}}, 'components': {'ISO_3166-1_alpha-2': 'CZ', 'ISO_3166-1_alpha-3': 'CZE', '_category': 'building', '_type': 'building', 'building': 'M6a', 'continent': 'Europe', 'country': 'Czech Republic', 'country_code': 'cz', 'county': 'okres Mladá Boleslav', 'industrial': 'Škoda Auto', 'political_union': 'European Union', 'postcode': '29360', 'road': 'tř. Ludvíka Kalmy a Volkharda Köhlera', 'state': 'Central Bohemia', 'suburb': 'Mladá Boleslav', 'town': 'Mladá Boleslav'}, 'confidence': 10, 'formatted': 'M6a, tř. Ludvíka Kalmy a Volkharda Köhlera, 293 60 Mladá Boleslav, Czech Republic', 'geometry': {'lat': 50.419523, 'lng': 14.9335404}}, {'annotations': {'DMS': {'lat': \"43° 43' 20.28000'' N\", 'lng': \"79° 27' 1.44000'' W\"}, 'MGRS': '17TPJ2481642196', 'Maidenhead': 'FN03gr53wi', 'Mercator': {'x': -8844378.071, 'y': 5393024.958}, 'OSM': {'note_url': 'https://www.openstreetmap.org/note/new#map=16/43.72230/-79.45040&layers=N', 'url': 'https://www.openstreetmap.org/?mlat=43.72230&mlon=-79.45040#map=16/43.72230/-79.45040'}, 'UN_M49': {'regions': {'AMERICAS': '019', 'CA': '124', 'NORTHERN_AMERICA': '021', 'WORLD': '001'}, 'statistical_groupings': ['MEDC']}, 'callingcode': 1, 'currency': {'alternate_symbols': ['C$', 'CAD$'], 'decimal_mark': '.', 'disambiguate_symbol': 'C$', 'html_entity': '$', 'iso_code': 'CAD', 'iso_numeric': '124', 'name': 'Canadian Dollar', 'smallest_denomination': 5, 'subunit': 'Cent', 'subunit_to_unit': 100, 'symbol': '$', 'symbol_first': 1, 'thousands_separator': ','}, 'flag': '🇨🇦', 'geohash': 'dpz88p3uz7ryt5c41mqw', 'qibla': 54.53, 'roadinfo': {'drive_on': 'right', 'speed_in': 'km/h'}, 'sun': {'rise': {'apparent': 1594374480, 'astronomical': 1594366320, 'civil': 1594372380, 'nautical': 1594369620}, 'set': {'apparent': 1594342740, 'astronomical': 1594350840, 'civil': 1594344840, 'nautical': 1594347540}}, 'timezone': {'name': 'America/Toronto', 'now_in_dst': 1, 'offset_sec': -14400, 'offset_string': '-0400', 'short_name': 'EDT'}, 'what3words': {'words': 'journals.caring.drove'}}, 'components': {'ISO_3166-1_alpha-2': 'CA', 'ISO_3166-1_alpha-3': 'CAN', '_category': 'postcode', '_type': 'postcode', 'continent': 'North America', 'country': 'Canada', 'country_code': 'ca', 'postcode': 'M6A'}, 'confidence': 7, 'formatted': 'M6A, Canada', 'geometry': {'lat': 43.7223, 'lng': -79.4504}}]\n"
     ]
    }
   ],
   "source": [
    "# testing....\n",
    "query = 'M6A'  \n",
    "\t\n",
    "results = geocoder.geocode(query)\n",
    "\t\n",
    "print (results)"
   ]
  },
  {
   "cell_type": "markdown",
   "metadata": {},
   "source": [
    "#### Looks like we need to append ', Canada' to the postal code query in order to filter correctly."
   ]
  },
  {
   "cell_type": "code",
   "execution_count": 4,
   "metadata": {},
   "outputs": [
    {
     "name": "stdout",
     "output_type": "stream",
     "text": [
      "[{'annotations': {'DMS': {'lat': \"43° 43' 20.28000'' N\", 'lng': \"79° 27' 1.44000'' W\"}, 'MGRS': '17TPJ2481642196', 'Maidenhead': 'FN03gr53wi', 'Mercator': {'x': -8844378.071, 'y': 5393024.958}, 'OSM': {'note_url': 'https://www.openstreetmap.org/note/new#map=16/43.72230/-79.45040&layers=N', 'url': 'https://www.openstreetmap.org/?mlat=43.72230&mlon=-79.45040#map=16/43.72230/-79.45040'}, 'UN_M49': {'regions': {'AMERICAS': '019', 'CA': '124', 'NORTHERN_AMERICA': '021', 'WORLD': '001'}, 'statistical_groupings': ['MEDC']}, 'callingcode': 1, 'currency': {'alternate_symbols': ['C$', 'CAD$'], 'decimal_mark': '.', 'disambiguate_symbol': 'C$', 'html_entity': '$', 'iso_code': 'CAD', 'iso_numeric': '124', 'name': 'Canadian Dollar', 'smallest_denomination': 5, 'subunit': 'Cent', 'subunit_to_unit': 100, 'symbol': '$', 'symbol_first': 1, 'thousands_separator': ','}, 'flag': '🇨🇦', 'geohash': 'dpz88p3uz7ryt5c41mqw', 'qibla': 54.53, 'roadinfo': {'drive_on': 'right', 'speed_in': 'km/h'}, 'sun': {'rise': {'apparent': 1594374480, 'astronomical': 1594366320, 'civil': 1594372380, 'nautical': 1594369620}, 'set': {'apparent': 1594342740, 'astronomical': 1594350840, 'civil': 1594344840, 'nautical': 1594347540}}, 'timezone': {'name': 'America/Toronto', 'now_in_dst': 1, 'offset_sec': -14400, 'offset_string': '-0400', 'short_name': 'EDT'}, 'what3words': {'words': 'journals.caring.drove'}}, 'components': {'ISO_3166-1_alpha-2': 'CA', 'ISO_3166-1_alpha-3': 'CAN', '_category': 'postcode', '_type': 'postcode', 'continent': 'North America', 'country': 'Canada', 'country_code': 'ca', 'postcode': 'M6A'}, 'confidence': 7, 'formatted': 'M6A, Canada', 'geometry': {'lat': 43.7223, 'lng': -79.4504}}]\n"
     ]
    }
   ],
   "source": [
    "### try again\n",
    "# testing....\n",
    "query = 'M6A, Canada'  \n",
    "\t\n",
    "results = geocoder.geocode(query)\n",
    "\t\n",
    "print (results)\n"
   ]
  },
  {
   "cell_type": "markdown",
   "metadata": {},
   "source": [
    "#### NICE! We can now start and loop through our DF to get lat and lon data."
   ]
  },
  {
   "cell_type": "code",
   "execution_count": 13,
   "metadata": {},
   "outputs": [],
   "source": [
    "#looping through\n",
    "\n",
    "for index, row in can_df.iterrows(): # iterate over rows in dataframe\n",
    "\n",
    "    PostalCode = row['Postal Code']\n",
    "    Borough = row['Borough']     \n",
    "    Neighborhood = row['Neighborhood']\n",
    "    query = str(PostalCode)+', Canada'\n",
    "\n",
    "    results = geocoder.geocode(query)   \n",
    "    lat = results[0]['geometry']['lat']\n",
    "    long = results[0]['geometry']['lng']\n",
    "\n",
    "    list_lat.append(lat)\n",
    "    list_long.append(long)\n",
    "\n",
    "\t\n",
    "# create new columns from lists    \n",
    "\n",
    "can_df['lat'] = list_lat   \n",
    "\n",
    "can_df['lon'] = list_long"
   ]
  },
  {
   "cell_type": "markdown",
   "metadata": {},
   "source": [
    "#### Let's take a look at it."
   ]
  },
  {
   "cell_type": "code",
   "execution_count": 14,
   "metadata": {},
   "outputs": [
    {
     "data": {
      "text/html": [
       "<div>\n",
       "<style scoped>\n",
       "    .dataframe tbody tr th:only-of-type {\n",
       "        vertical-align: middle;\n",
       "    }\n",
       "\n",
       "    .dataframe tbody tr th {\n",
       "        vertical-align: top;\n",
       "    }\n",
       "\n",
       "    .dataframe thead th {\n",
       "        text-align: right;\n",
       "    }\n",
       "</style>\n",
       "<table border=\"1\" class=\"dataframe\">\n",
       "  <thead>\n",
       "    <tr style=\"text-align: right;\">\n",
       "      <th></th>\n",
       "      <th>Postal Code</th>\n",
       "      <th>Borough</th>\n",
       "      <th>Neighborhood</th>\n",
       "      <th>lat</th>\n",
       "      <th>lon</th>\n",
       "    </tr>\n",
       "  </thead>\n",
       "  <tbody>\n",
       "    <tr>\n",
       "      <th>0</th>\n",
       "      <td>M3A</td>\n",
       "      <td>North York</td>\n",
       "      <td>Parkwoods</td>\n",
       "      <td>36.433833</td>\n",
       "      <td>28.233327</td>\n",
       "    </tr>\n",
       "    <tr>\n",
       "      <th>1</th>\n",
       "      <td>M4A</td>\n",
       "      <td>North York</td>\n",
       "      <td>Victoria Village</td>\n",
       "      <td>43.727600</td>\n",
       "      <td>-79.314800</td>\n",
       "    </tr>\n",
       "    <tr>\n",
       "      <th>2</th>\n",
       "      <td>M5A</td>\n",
       "      <td>Downtown Toronto</td>\n",
       "      <td>Regent Park, Harbourfront</td>\n",
       "      <td>43.655500</td>\n",
       "      <td>-79.362600</td>\n",
       "    </tr>\n",
       "    <tr>\n",
       "      <th>3</th>\n",
       "      <td>M6A</td>\n",
       "      <td>North York</td>\n",
       "      <td>Lawrence Manor, Lawrence Heights</td>\n",
       "      <td>43.722300</td>\n",
       "      <td>-79.450400</td>\n",
       "    </tr>\n",
       "    <tr>\n",
       "      <th>4</th>\n",
       "      <td>M7A</td>\n",
       "      <td>Downtown Toronto</td>\n",
       "      <td>Queen's Park, Ontario Provincial Government</td>\n",
       "      <td>36.433833</td>\n",
       "      <td>28.233327</td>\n",
       "    </tr>\n",
       "  </tbody>\n",
       "</table>\n",
       "</div>"
      ],
      "text/plain": [
       "  Postal Code           Borough                                 Neighborhood  \\\n",
       "0         M3A        North York                                    Parkwoods   \n",
       "1         M4A        North York                             Victoria Village   \n",
       "2         M5A  Downtown Toronto                    Regent Park, Harbourfront   \n",
       "3         M6A        North York             Lawrence Manor, Lawrence Heights   \n",
       "4         M7A  Downtown Toronto  Queen's Park, Ontario Provincial Government   \n",
       "\n",
       "         lat        lon  \n",
       "0  36.433833  28.233327  \n",
       "1  43.727600 -79.314800  \n",
       "2  43.655500 -79.362600  \n",
       "3  43.722300 -79.450400  \n",
       "4  36.433833  28.233327  "
      ]
     },
     "execution_count": 14,
     "metadata": {},
     "output_type": "execute_result"
    }
   ],
   "source": [
    "### this is the Dataframe with lat and lon data\n",
    "can_df.head()"
   ]
  },
  {
   "cell_type": "code",
   "execution_count": null,
   "metadata": {},
   "outputs": [],
   "source": []
  }
 ],
 "metadata": {
  "kernelspec": {
   "display_name": "Python 3",
   "language": "python",
   "name": "python3"
  },
  "language_info": {
   "codemirror_mode": {
    "name": "ipython",
    "version": 3
   },
   "file_extension": ".py",
   "mimetype": "text/x-python",
   "name": "python",
   "nbconvert_exporter": "python",
   "pygments_lexer": "ipython3",
   "version": "3.7.6"
  }
 },
 "nbformat": 4,
 "nbformat_minor": 4
}
